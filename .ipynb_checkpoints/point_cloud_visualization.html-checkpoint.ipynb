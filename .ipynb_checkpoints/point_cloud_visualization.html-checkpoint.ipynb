{
 "cells": [
  {
   "cell_type": "code",
   "execution_count": null,
   "id": "ed0f62b8-3c8f-4ef5-9439-c71b43efb2f9",
   "metadata": {},
   "outputs": [],
   "source": [
    "import open3d as o3d\n",
    "import numpy as np\n",
    "import plotly.graph_objs as go\n",
    "import plotly.io as pio\n",
    "\n",
    "# PCD 파일 읽기\n",
    "pcd = o3d.io.read_point_cloud(r'C:\\Users\\ENTER\\Downloads\\internship\\lidar\\01\\04_\\LiDAR\\daegu_0104_day_cloudy_0008_0000.pcd')\n",
    "\n",
    "# Voxel Downsampling\n",
    "voxel_size = 0.1  # 원하는 voxel 크기로 조정\n",
    "pcd_downsampled = pcd.voxel_down_sample(voxel_size)\n",
    "\n",
    "# 포인트 클라우드의 포인트 배열 가져오기\n",
    "points = np.asarray(pcd_downsampled.points)\n",
    "\n",
    "# Plotly를 사용한 3D 시각화\n",
    "fig = go.Figure(data=[go.Scatter3d(\n",
    "    x=points[:, 0],\n",
    "    y=points[:, 1],\n",
    "    z=points[:, 2],\n",
    "    mode='markers',\n",
    "    marker=dict(\n",
    "        size=1,\n",
    "        color=points[:, 2],  # 색상을 Z축 값에 따라 설정\n",
    "        colorscale='Viridis',\n",
    "        opacity=0.8\n",
    "    )\n",
    ")])\n",
    "\n",
    "# 레이아웃 조정\n",
    "fig.update_layout(\n",
    "    scene=dict(\n",
    "        aspectmode='data',\n",
    "        xaxis_title='X',\n",
    "        yaxis_title='Y',\n",
    "        zaxis_title='Z'\n",
    "    ),\n",
    "    width=1000,  # 그래프의 너비\n",
    "    height=800,  # 그래프의 높이\n",
    "    title='3D Point Cloud Visualization'\n",
    ")\n",
    "\n",
    "# HTML로 저장\n",
    "output_file_path = 'point_cloud_visualization.html'\n",
    "pio.write_html(fig, file=output_file_path, auto_open=False)  # auto_open=False로 설정하여 자동으로 열리지 않도록 함\n"
   ]
  }
 ],
 "metadata": {
  "kernelspec": {
   "display_name": "myenv",
   "language": "python",
   "name": "myenv"
  },
  "language_info": {
   "codemirror_mode": {
    "name": "ipython",
    "version": 3
   },
   "file_extension": ".py",
   "mimetype": "text/x-python",
   "name": "python",
   "nbconvert_exporter": "python",
   "pygments_lexer": "ipython3",
   "version": "3.10.14"
  }
 },
 "nbformat": 4,
 "nbformat_minor": 5
}
